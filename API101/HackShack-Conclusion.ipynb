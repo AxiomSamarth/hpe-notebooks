{
 "cells": [
  {
   "cell_type": "markdown",
   "metadata": {},
   "source": [
    "![HPEDEVlogo](Pictures/hpedevlogo-NB.JPG)\n",
    "\n",
    "# Thank you for visiting the Hack Shack\n",
    "\n",
    "Powered by [HPE DEV Team](hpedev.io)\n",
    "\n",
    "\n",
    "# Conclusion\n",
    "\n",
    "In this workshop, you have learned about Application Programming Interfaces (API), what they are composed of and some of the jargon used when discussing API. Using cURL (and Postman), you have succesfully managed to place API calls to retrieve information from a weather report web service.\n",
    "\n",
    "Congratulations!\n",
    "\n",
    "# Final steps\n",
    "Please take a moment to fill out our [survey](https://forms.office.com/Pages/ResponsePage.aspx?id=YSBbEGm2MUuSrCTTBNGV3KHzFdd987lBoQATWJq45DdUMlhIRDlJUjhDV0FESU9YNlEyUjNTSFc3Ui4u).\n",
    "\n",
    "And make sure you use File -> Log Out menu to terminate your workshop session.\n",
    "\n",
    "# Thank you\n",
    "![ThankYou](Pictures/grommet.JPG)"
   ]
  }
 ],
 "metadata": {
  "kernelspec": {
   "display_name": "Bash",
   "language": "bash",
   "name": "bash"
  },
  "language_info": {
   "codemirror_mode": "shell",
   "file_extension": ".sh",
   "mimetype": "text/x-sh",
   "name": "bash"
  }
 },
 "nbformat": 4,
 "nbformat_minor": 4
}
